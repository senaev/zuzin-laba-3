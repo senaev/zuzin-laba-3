{
 "cells": [
  {
   "cell_type": "markdown",
   "metadata": {},
   "source": [
    "# Решающее дерево"
   ]
  },
  {
   "cell_type": "markdown",
   "metadata": {},
   "source": [
    "Отметим, что решающее дерево состоит из вершин, в которых записывает некоторое условие, а в листах дерева - прогноз. Условия во внутренних вершинах выбираются простыми. Наиболее частый вариант - проверка лежит ли значение некоторого признака $x^j$ левее порога $t$:\n",
    "\n",
    "$[x^j \\leq t]$\n",
    "\n",
    "Легко заметить, что такое условие зависит только от одного признака. Прогноз в листе является вещественным числом, если решается задача регрессии. Если же решается задача классификации, то в качестве прогноза выступает или класс или распределение вероятностей классов.\n",
    "\n",
    "Запишем некоторую функцию ошибки следующим образом: есть набор данных $X_m$, есть номер рассматриваемого признака $j$ и есть порог $t$.\n",
    "\n",
    "$L(X_m, j, t) \\rightarrow \\underset{j,t}{min}$\n",
    "\n",
    "Осуществим перебор всех возможных признаков $j$ и порогов $t$ для этих признаков. Каждый раз исходное множество будет разбиваться на два подмножества:\n",
    "\n",
    "$X_l = \\{x \\in X_m | [ x^j \\leq t ] \\}$ и $X_к = \\{x \\in X_m | [ x^j > t ] \\}$\n",
    "\n",
    "Такую процедуру можно продолжить для каждого получившегося множества (рекурсивно вызывать функцию деления для получающихся подмножеств).\n",
    "\n",
    "Необходимо отметить, что если вершина была объявлена листом, необходимо сделать прогноз для этого листа. Для задачи регрессии берется среднее значение по этой выборке,\n",
    "для задачи классификации возвращается тот класс, которые наиболее популярен в выборке. Можно указывать вероятность классов в листе.\n",
    "\n",
    "Для каждого разбиения необходимо расчитывать функцию потерь:\n",
    "\n",
    "$L(X_m, j, t) = \\frac{|X_l|}{|X_m|}H(X_l) + \\frac{|X_r|}{|X_m|}H(X_r)$,\n",
    "\n",
    "где $H(X)=\\sum\\limits_{k=1}^{K} p_k(1 - p_k)$ - критерий информативности Джинни.\n",
    "\n",
    "$p_k$ - доля объектов класса $k$ в выборке X:\n",
    "\n",
    "$p_k=\\frac{1}{|X|}\\sum\\limits_{i \\in X}{[y_i = k]}$\n",
    "\n",
    "В задаче работаем только с числовыми данными и строим дерево классификации.\n",
    "\n",
    "Данные сгенерированы случайным образом."
   ]
  },
  {
   "cell_type": "code",
   "execution_count": 219,
   "metadata": {},
   "outputs": [
    {
     "data": {
      "text/plain": [
       "<matplotlib.collections.PathCollection at 0x1a18d416d8>"
      ]
     },
     "execution_count": 219,
     "metadata": {},
     "output_type": "execute_result"
    },
    {
     "data": {
      "image/png": "[encoded data removed]",
      "text/plain": [
       "<Figure size 432x288 with 1 Axes>"
      ]
     },
     "metadata": {},
     "output_type": "display_data"
    }
   ],
   "source": [
    "from sklearn.datasets import make_blobs, make_moons\n",
    "import matplotlib.pyplot as plt\n",
    "import numpy as np\n",
    "from functools import reduce\n",
    "%matplotlib inline\n",
    "\n",
    "# x, y = make_moons(n_samples=100, noise=0.1)\n",
    "x, y = make_blobs(n_samples=150, n_features=2, cluster_std=1.4)\n",
    "\n",
    "plt.scatter(x[:,0], x[:,1], c = y)"
   ]
  },
  {
   "cell_type": "markdown",
   "metadata": {},
   "source": [
    "\n",
    "## Задание 1\n",
    "\n",
    "Напишите функцию, которая получает на вход матрицу данных ($x$) и целевые переменные ($y$), на выходе функция возвращает номер признака ($i$), порог разбиения($t$), значение в листовой вершине слева ($y_l$) и значение в листовой вершине справа ($y_r$).\n",
    "Постарайтесь учесть, что пороги разбиения должны лежать строго по середине между ближайшими обектами.\n",
    "\n",
    "Необходимо учесть:\n",
    "\n",
    "1. Разбиений не требуется, если в получившемся множестве находятся объекты одного класса.\n",
    "2. Количество различных классов объектов в целевой переменной может быть больше двух.\n"
   ]
  },
  {
   "cell_type": "code",
   "execution_count": 248,
   "metadata": {},
   "outputs": [],
   "source": [
    "def getGini(left, right, edge):\n",
    "    allValues = left + right\n",
    "    allValuesCount = float(len(allValues))\n",
    "    allCategories = list(set([value[2] for value in allValues]))\n",
    "    \n",
    "    gini = 0.0\n",
    "    for group in (left, right):\n",
    "        groupLen = float(len(group))\n",
    "        score = 0.0\n",
    "        for category in allCategories:\n",
    "            catRelation = [key[2] for key in group].count(category) / groupLen\n",
    "            score += catRelation * catRelation\n",
    "\n",
    "        gini += (1 - score) * (groupLen / allValuesCount)\n",
    "    return gini"
   ]
  },
  {
   "cell_type": "code",
   "execution_count": 250,
   "metadata": {},
   "outputs": [],
   "source": [
    "def calculateLoss(dimensionTuples, edge):\n",
    "    left = []\n",
    "    right = []\n",
    "    \n",
    "    for value in dimensionTuples:\n",
    "        targetList = left if value[1] <= edge else right\n",
    "        targetList.append(value)\n",
    "\n",
    "    return getGini(left, right, edge)"
   ]
  },
  {
   "cell_type": "code",
   "execution_count": 253,
   "metadata": {},
   "outputs": [],
   "source": [
    "def getDimensionEdge(positionsList, pointValues):\n",
    "    # create tuples for dimension like (index, position, value)\n",
    "    dimensionTuples = []\n",
    "    for key, position in enumerate(positionsList):\n",
    "        dimensionTuples.append((key, position, pointValues[key]))\n",
    "    dimensionTuples.sort(key=lambda v: v[1])\n",
    "    \n",
    "    minGini, index = 1, -1\n",
    "    for key in range(len(dimensionTuples) - 1):\n",
    "        left = dimensionTuples[key]\n",
    "        right = dimensionTuples[key + 1]\n",
    "        edge = (left[1] + right[1]) / 2\n",
    "        \n",
    "        gini = calculateLoss(dimensionTuples, edge)\n",
    "        if (gini < minGini):\n",
    "            minGini, index = gini, key\n",
    "\n",
    "    return minGini, dimensionTuples[index], dimensionTuples[index + 1];"
   ]
  },
  {
   "cell_type": "code",
   "execution_count": 256,
   "metadata": {},
   "outputs": [
    {
     "name": "stdout",
     "output_type": "stream",
     "text": [
      "1 3.8976860447437844 1.1600140045035277 6.635358084984041 0.3333333333333333\n"
     ]
    }
   ],
   "source": [
    "def getEdge(valuesSet):\n",
    "    x = valuesSet['x']\n",
    "    y = valuesSet['y']\n",
    "    \n",
    "    minDimensionKey, minGini, minLeft, minRight = -1, 1, 0, 0\n",
    "    for dimensionKey in range(len(x[0])):\n",
    "        dimensionValues = [values[dimensionKey] for values in x]\n",
    "        gini, left, right = getDimensionEdge(dimensionValues, y)\n",
    "        if (gini < minGini):\n",
    "            minDimensionKey, minGini, minLeft, minRight = dimensionKey, gini, left, right\n",
    "    \n",
    "    edge = (minLeft[1] + minRight[1]) / 2\n",
    "    return minDimensionKey, edge, minLeft[1], minRight[1], minGini;\n",
    "    \n",
    "firstEdgeCat, firstEdge, firstEdgeLeft, firstEdgeRight, firstGini = getEdge({\n",
    "    'x': x,\n",
    "    'y': y\n",
    "})\n",
    "print(firstEdgeCat, firstEdge, firstEdgeLeft, firstEdgeRight, firstGini)"
   ]
  },
  {
   "cell_type": "markdown",
   "metadata": {},
   "source": [
    "После первого разбиения мы считаем, что в листе дерева будет находиться класс объектов, которых больше всего в этом множестве. Реализуйте классификатор дерева решений в виде функции, которая получает на вход признаки объекта - $x$, на выходе метка класса - $y_{pred}$. Величину порога деления возьмите с точностью до 5 знака после запятой.\n",
    "\n",
    "Визуализируйте получившиеся результаты классификатора на плоскости. Для этого воспользуйтесь кодом ниже, чтобы построить поверхность. $t$ - порог разбиения $i$ - номер признака."
   ]
  },
  {
   "cell_type": "code",
   "execution_count": 269,
   "metadata": {},
   "outputs": [
    {
     "name": "stdout",
     "output_type": "stream",
     "text": [
      "[[-7.01341808 -6.99341808 -6.97341808 ...  8.22658192  8.24658192\n",
      "   8.26658192]\n",
      " [-7.01341808 -6.99341808 -6.97341808 ...  8.22658192  8.24658192\n",
      "   8.26658192]\n",
      " [-7.01341808 -6.99341808 -6.97341808 ...  8.22658192  8.24658192\n",
      "   8.26658192]\n",
      " ...\n",
      " [-7.01341808 -6.99341808 -6.97341808 ...  8.22658192  8.24658192\n",
      "   8.26658192]\n",
      " [-7.01341808 -6.99341808 -6.97341808 ...  8.22658192  8.24658192\n",
      "   8.26658192]\n",
      " [-7.01341808 -6.99341808 -6.97341808 ...  8.22658192  8.24658192\n",
      "   8.26658192]]\n"
     ]
    },
    {
     "data": {
      "text/plain": [
       "<matplotlib.collections.PathCollection at 0x1a187c55c0>"
      ]
     },
     "execution_count": 269,
     "metadata": {},
     "output_type": "execute_result"
    },
    {
     "data": {
      "image/png": "[encoded data removed]",
      "text/plain": [
       "<Figure size 432x288 with 1 Axes>"
      ]
     },
     "metadata": {},
     "output_type": "display_data"
    }
   ],
   "source": [
    "def tree_clf(x):\n",
    "    y_pred = list()  \n",
    "    for it in x.transpose():\n",
    "        y_pred.append(1 if it[firstEdgeCat] < firstEdge else 0)\n",
    "    return np.array(y_pred)\n",
    "\n",
    "h = .02\n",
    "x0_min, x0_max = np.min(x[:,0]) - 1, np.max(x[:,0]) + 1\n",
    "x1_min, x1_max = np.min(x[:,1]) - 1, np.max(x[:,1]) + 1\n",
    "xx0, xx1 = np.meshgrid(np.arange(x0_min, x0_max, h),\n",
    "                         np.arange(x1_min, x1_max, h))\n",
    "\n",
    "Z = tree_clf(np.stack((xx0.ravel(),xx1.ravel())))\n",
    "\n",
    "Z = Z.reshape(xx0.shape)\n",
    "cm = plt.cm.RdBu\n",
    "plt.contourf(xx0, xx1, Z, cmap=cm, alpha=.8)\n",
    "plt.scatter(x[:,0], x[:,1], c = y)\n"
   ]
  },
  {
   "cell_type": "markdown",
   "metadata": {},
   "source": [
    "Проведите процесс разбиение в получившихся листах дерева до глубины 2. Перепишите функцию классификатора. Визуализируйте результаты классификации."
   ]
  },
  {
   "cell_type": "code",
   "execution_count": 261,
   "metadata": {},
   "outputs": [],
   "source": [
    "def splitByEdge(x, y, cat, edge):\n",
    "    xTargets = {\n",
    "        'x': [],\n",
    "        'y': []\n",
    "    }\n",
    "    yTargets = {\n",
    "        'x': [],\n",
    "        'y': []\n",
    "    }\n",
    "    for key, values in enumerate(x):\n",
    "        targets = xTargets if values[cat] <= edge else yTargets\n",
    "        targets['x'].append(values)\n",
    "        targets['y'].append(y[key])\n",
    "\n",
    "    return [xTargets, yTargets]"
   ]
  },
  {
   "cell_type": "code",
   "execution_count": 265,
   "metadata": {},
   "outputs": [],
   "source": [
    "def shouldBeSplitted(y):\n",
    "    return len(set(y)) > 1"
   ]
  },
  {
   "cell_type": "code",
   "execution_count": 274,
   "metadata": {},
   "outputs": [
    {
     "name": "stdout",
     "output_type": "stream",
     "text": [
      "(0, 0.353271416309185, -0.6752758773755136, 1.3818187099938837, 0.0)\n"
     ]
    }
   ],
   "source": [
    "def getMinimimEdge(setsOfValues):\n",
    "    minEdgeCat, minEdge, minEdgeLeft, minEdgeRight, minGini = None, None, None, None, 1\n",
    "    \n",
    "    for setOfValues in setsOfValues:\n",
    "        edgeCat, edge, edgeLeft, edgeRight, gini = getEdge(setOfValues)\n",
    "        if (gini < minGini):\n",
    "            minEdgeCat, minEdge, minEdgeLeft, minEdgeRight, minGini = edgeCat, edge, edgeLeft, edgeRight, gini\n",
    "    \n",
    "    return minEdgeCat, minEdge, minEdgeLeft, minEdgeRight, minGini\n",
    "\n",
    "def getSetsToSplit(setsOfValues):\n",
    "    setsToSplit = []\n",
    "    for setOfValues in setsOfValues:\n",
    "        if (shouldBeSplitted(setOfValues['y'])):\n",
    "            setsToSplit.append(setOfValues)\n",
    "    \n",
    "    return setsToSplit;\n",
    "\n",
    "setsOfValuesToSplit = splitByEdge(x, y, firstEdgeCat, firstEdge)\n",
    "\n",
    "print(getMinimimEdge(setsOfValuesToSplit))"
   ]
  },
  {
   "cell_type": "markdown",
   "metadata": {},
   "source": [
    "## Задание №2. Кросс-проверка и  подбор параметров для дерева решений"
   ]
  },
  {
   "cell_type": "markdown",
   "metadata": {},
   "source": [
    "В задании воспользуемся готовой функцией для построения дерева решений DecisionTreeClassifier. Использовать будем данные с платформы kaggle, где проводится классификация пациентов на здоровых ('Normal') и с заболеванием ('Abnormal'). Подробности о признаках тут: https://www.kaggle.com/uciml/biomechanical-features-of-orthopedic-patients/home\n",
    "Необходимо построить кросс-проверку (cross_val_score в sklearn.cross_validation ) алгоритма \"Дерево решений\" на 5 подвыборках, причем дерево должно не ограничиваться по глубине (max_depth), в листовой вершине дерева должен быть хотя бы один объект (min_samples_leaf), минимальное количество объектов должно быть не менее 2 для разбиения (min_samples_split) и random_state=42.\n",
    "Оцените результаты получившиеся на валидационной выборке с использованием F1-меры, точности и полноты (в параметре scoring к методу cross_val_score необходимо использовать 'f1_weighted', 'precision_weighted', 'recall_weighted'). \n",
    "\n",
    "Точность и полнота позволяют провести оценку классификации.\n",
    "Точность (Precision) - это отношение количества правильно классифицированных объектов класса к количеству объектов, которые классифицированы как данный класс.\n",
    "Полнота (Recall) - это отношение количества правильно классифицированных объектов класса к количеству объектов данного класса в тестовой выборке.\n",
    "Введем следующие понятия:\n",
    "\n",
    "$TP$  — истино-положительное решение;\n",
    "$TN$ — истино-отрицательное решение;\n",
    "$FP$ — ложно-положительное решение;\n",
    "$FN$ — ложно-отрицательное решение.\n",
    "\n",
    "Тогда \n",
    "\n",
    "$Precision = \\frac{TP}{TP+FP}$, \n",
    "\n",
    "$Recall = \\frac{TP}{TP+TN}$.\n",
    "\n",
    "Точность и полнота изменяются в интервале [0, 1]. Чем выше точность и полнота, тем лучше классификатор. Однако, по двум метрикам очень сложно чудить о качестве классификации, поэтому используют F1-меру:\n",
    "\n",
    "$F1 = \\frac{2 \\times Precision \\times Recall}{Precision + Recall}$\n",
    "\n",
    "В нашем задании будем использовать взвешенную сумму F1-меры, точности и полноты для каждого класса."
   ]
  },
  {
   "cell_type": "code",
   "execution_count": 172,
   "metadata": {},
   "outputs": [],
   "source": [
    "import pandas as pd\n",
    "from sklearn.tree import DecisionTreeClassifier\n",
    "from sklearn.cross_validation import cross_val_score\n",
    "from sklearn.metrics.classification import f1_score, precision_score, recall_score"
   ]
  },
  {
   "cell_type": "code",
   "execution_count": 173,
   "metadata": {},
   "outputs": [
    {
     "data": {
      "text/plain": [
       "Index(['pelvic_incidence', 'pelvic_tilt numeric', 'lumbar_lordosis_angle',\n",
       "       'sacral_slope', 'pelvic_radius', 'degree_spondylolisthesis', 'class'],\n",
       "      dtype='object')"
      ]
     },
     "execution_count": 173,
     "metadata": {},
     "output_type": "execute_result"
    }
   ],
   "source": [
    "df = pd.read_csv('column_2C_weka.csv')\n",
    "df.columns"
   ]
  },
  {
   "cell_type": "code",
   "execution_count": null,
   "metadata": {},
   "outputs": [],
   "source": []
  },
  {
   "cell_type": "markdown",
   "metadata": {},
   "source": [
    "Следует отметить, что по одной метрике не очень удобно проводить оценку. В этой связи, лучшим вариантом кросс-проверки будет использование функции cross_validate из sklearn.model_selection. В нее можно передать несколько метрик и оценивать каждый шаг кросс проверки по нескольким метрикам, причем для тренировочного (return_train_score=True) и валидационного набора данных.\n",
    "Оцените результаты на тренировочном и тестовом наборе. Объясните получившиеся результаты.\n"
   ]
  },
  {
   "cell_type": "code",
   "execution_count": 115,
   "metadata": {},
   "outputs": [],
   "source": [
    "from sklearn.model_selection import cross_validate"
   ]
  },
  {
   "cell_type": "code",
   "execution_count": null,
   "metadata": {},
   "outputs": [],
   "source": []
  },
  {
   "cell_type": "markdown",
   "metadata": {},
   "source": [
    "Подбор параметров для модели можно проводить с помощью GridSearchCV из sklearn.model_selection. Возьмите параметр максимальной глубины дерева от 1 до 20. Относительно этого параметра вычислите средевзвешенную F1-меру для 5 разбиений. Постройте график зависимости F1-меры от максимальной глубины дерева. Получить результаты построения можно методом cv_results_.\n",
    "\n",
    "Проведите оценку результатов. Почему на тестовой выборке F1-мера не увеличивается. "
   ]
  },
  {
   "cell_type": "code",
   "execution_count": null,
   "metadata": {},
   "outputs": [],
   "source": [
    "from sklearn.model_selection import GridSearchCV"
   ]
  },
  {
   "cell_type": "code",
   "execution_count": null,
   "metadata": {},
   "outputs": [],
   "source": []
  },
  {
   "cell_type": "markdown",
   "metadata": {},
   "source": [
    "То же самое проведите для параметра min_samples_split от 2 до 20.\n",
    "\n",
    "Проведите оценку результатов. "
   ]
  },
  {
   "cell_type": "code",
   "execution_count": null,
   "metadata": {},
   "outputs": [],
   "source": []
  },
  {
   "cell_type": "markdown",
   "metadata": {},
   "source": [
    "То же самое проведите для параметра min_samples_leaf от 1 до 10.\n",
    "\n",
    "Проведите оценку результатов. "
   ]
  },
  {
   "cell_type": "code",
   "execution_count": null,
   "metadata": {},
   "outputs": [],
   "source": []
  }
 ],
 "metadata": {
  "kernelspec": {
   "display_name": "Python 3",
   "language": "python",
   "name": "python3"
  },
  "language_info": {
   "codemirror_mode": {
    "name": "ipython",
    "version": 3
   },
   "file_extension": ".py",
   "mimetype": "text/x-python",
   "name": "python",
   "nbconvert_exporter": "python",
   "pygments_lexer": "ipython3",
   "version": "3.6.5"
  }
 },
 "nbformat": 4,
 "nbformat_minor": 2
}
